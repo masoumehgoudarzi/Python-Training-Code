{
  "cells": [
    {
      "cell_type": "markdown",
      "source": [
        "#**Python Workshop (1) - Basics**\n",
        "All authorized workshop material cannot be redistributed without the prior consent of the instructors."
      ],
      "metadata": {
        "id": "URG4w5d_Chzu"
      }
    },
    {
      "cell_type": "markdown",
      "metadata": {
        "id": "gGNFoApMM4pz"
      },
      "source": [
        "# 1. Strings and string concatenation\n",
        "\n",
        "strings are immutable\n",
        "string concatenation\n",
        "\n",
        "+---+---+---+---+---+---+\n",
        "\n",
        "| P | y | t | h | o | n |\n",
        "\n",
        "+---+---+---+---+---+---+\n",
        "\n",
        "0   1   2   3   4   5   6\n",
        "\n",
        "-6  -5  -4  -3  -2  -1"
      ]
    },
    {
      "cell_type": "markdown",
      "source": [
        "1.1. To print a string into the console."
      ],
      "metadata": {
        "id": "vRzZgEEwSx2p"
      }
    },
    {
      "cell_type": "code",
      "execution_count": null,
      "metadata": {
        "id": "LwmcVxwrM4px",
        "colab": {
          "base_uri": "https://localhost:8080/"
        },
        "outputId": "2872fd08-20a2-4ab4-fe83-99b1b86205c0"
      },
      "outputs": [
        {
          "output_type": "stream",
          "name": "stdout",
          "text": [
            "hi\n"
          ]
        }
      ],
      "source": [
        "print(\"hi\")"
      ]
    },
    {
      "cell_type": "markdown",
      "source": [
        "1.2. Printing 3 times 'un', followed by 'ium' without any space\n"
      ],
      "metadata": {
        "id": "RXNaJ1m7S6wY"
      }
    },
    {
      "cell_type": "code",
      "source": [
        "print(3 * 'un' + 'ium')"
      ],
      "metadata": {
        "id": "TfSSbPI_RWYS",
        "colab": {
          "base_uri": "https://localhost:8080/"
        },
        "outputId": "c977961f-cd16-40ea-f481-651c31c80396"
      },
      "execution_count": null,
      "outputs": [
        {
          "output_type": "stream",
          "name": "stdout",
          "text": [
            "unununium\n"
          ]
        }
      ]
    },
    {
      "cell_type": "markdown",
      "source": [
        "1.3. Subscripting the strings using indexes\n",
        "\n",
        "\n",
        "In the following cell, the f at the beginning of the string is used to create an **f-string** in Python. An f-string is a formatted string literal that allows you to embed expressions inside string literals, using curly braces {}."
      ],
      "metadata": {
        "id": "V6NLY8JNPv-r"
      }
    },
    {
      "cell_type": "code",
      "execution_count": null,
      "metadata": {
        "id": "lVj2d0bnM4p0",
        "outputId": "0d1020cf-845a-4652-e83b-989c8f2666ef",
        "colab": {
          "base_uri": "https://localhost:8080/"
        }
      },
      "outputs": [
        {
          "output_type": "stream",
          "name": "stdout",
          "text": [
            "first character within the string Python is P\n",
            "\n",
            "sixth character within the string Python is n\n",
            "\n",
            "last character within the string Python is n\n",
            "\n",
            "second to last character within the string Python is o\n",
            "\n"
          ]
        }
      ],
      "source": [
        "# Strings can be indexed (subscripted)\n",
        "word = 'Python'\n",
        "print(f\"first character within the string {word} is {word[0]}\", end = \"\\n\\n\")  # character in position 0\n",
        "print(f\"sixth character within the string {word} is {word[5]}\", end = \"\\n\\n\")  # character in position 5\n",
        "print(f\"last character within the string {word} is {word[-1]}\", end = \"\\n\\n\")  # last character\n",
        "print(f\"second to last character within the string {word} is {word[-2]}\", end = \"\\n\\n\")  # second-last character"
      ]
    },
    {
      "cell_type": "markdown",
      "source": [
        "1.4. String slicing is done using colon notations using the syntax below.\n",
        "\n",
        "In the following cell, the f-string is used to interpolate the value of the variable word into the string. For exampel, in the first line, substring from the first to the third index of the word variable is then printed using string slicing, and the result is concatenated with the rest of the string using the f-string."
      ],
      "metadata": {
        "id": "DNNquN0IRyz5"
      }
    },
    {
      "cell_type": "code",
      "source": [
        "# string slicing can be done as following:\n",
        "# print(f\"substring from the first to the third index of {word} is {word[0:2]}\", end = \"\\n\\n\")  # characters from position 0 (included) to 2 (excluded)\n",
        "#print(f\"substring from the third to the sixth index of {word} is {word[2:5]}\", end = \"\\n\\n\")  # characters from position 2 (included) to 5 (excluded)\n",
        "print(f\"substring from the first to the third index of {word} is {word[:2]}\", end = \"\\n\\n\")   # character from the beginning to position 2 (excluded)\n",
        "print(f\"substring from the fifth to the last index of {word} is {word[4:]}\", end = \"\\n\\n\")   # characters from position 4 (included) to the end\n",
        "# print(f\"substring from the second to the last index to the last index of {word} is {word[-2:]}\", end = \"\\n\\n\")  # characters from the second-last (included) to the end\n",
        "print(f\"substring from the first to the last index of {word} is {word[::-1]}\", end = \"\\n\\n\")  # the whole string with steps of two"
      ],
      "metadata": {
        "colab": {
          "base_uri": "https://localhost:8080/"
        },
        "id": "HCcxphSGRyFx",
        "outputId": "ab06be5d-2654-4ebb-fbd2-e8cd7a64583c"
      },
      "execution_count": null,
      "outputs": [
        {
          "output_type": "stream",
          "name": "stdout",
          "text": [
            "substring from the first to the third index of Python is Py\n",
            "\n",
            "substring from the fifth to the last index of Python is on\n",
            "\n",
            "substring from the first to the last index of Python is nohtyP\n",
            "\n"
          ]
        }
      ]
    },
    {
      "cell_type": "markdown",
      "metadata": {
        "id": "kACu6sn4M4p2"
      },
      "source": [
        "## 2. Commonly used built-in methods of string objects"
      ]
    },
    {
      "cell_type": "markdown",
      "source": [
        "2.1 Capitalizing the first letter, turning string into uppercase or lowercase."
      ],
      "metadata": {
        "id": "X2wgcqjwT3Kf"
      }
    },
    {
      "cell_type": "code",
      "source": [
        "word = \"python\"\n",
        "print(word.title()) # capitalizing the first letter of the string\n",
        "print(word.upper()) # turning string into uppercase.\n",
        "\n",
        "word2 = \"PyThON\"\n",
        "print(word2.lower()) # converting uppercase letters within the string given to the lowercase ones"
      ],
      "metadata": {
        "id": "O_0kIeZdT3fv",
        "colab": {
          "base_uri": "https://localhost:8080/"
        },
        "outputId": "cdb21a02-f079-4879-ea77-99e227ad355b"
      },
      "execution_count": null,
      "outputs": [
        {
          "output_type": "stream",
          "name": "stdout",
          "text": [
            "Python\n",
            "PYTHON\n",
            "python\n"
          ]
        }
      ]
    },
    {
      "cell_type": "code",
      "source": [
        "print(help(word.title))"
      ],
      "metadata": {
        "colab": {
          "base_uri": "https://localhost:8080/"
        },
        "id": "V0i2X7BCMwGq",
        "outputId": "047c62bb-693b-4a4b-cbf8-08c50638e824"
      },
      "execution_count": null,
      "outputs": [
        {
          "output_type": "stream",
          "name": "stdout",
          "text": [
            "Help on built-in function title:\n",
            "\n",
            "title() method of builtins.str instance\n",
            "    Return a version of the string where each word is titlecased.\n",
            "    \n",
            "    More specifically, words start with uppercased characters and all remaining\n",
            "    cased characters have lower case.\n",
            "\n",
            "None\n"
          ]
        }
      ]
    },
    {
      "cell_type": "markdown",
      "source": [
        "2.2. **rstrip()**, **strip()**, and **lstrip()**\n",
        "\n",
        "The snippet below cuts out the white spaces from the right (rstrip), both sides (strip), left (lstrip)."
      ],
      "metadata": {
        "id": "6O2Gmb7GVNQe"
      }
    },
    {
      "cell_type": "code",
      "source": [
        "word = \" \""
      ],
      "metadata": {
        "id": "2efEb4KjNnen"
      },
      "execution_count": null,
      "outputs": []
    },
    {
      "cell_type": "code",
      "execution_count": null,
      "metadata": {
        "id": "hT5xOx0fM4p2",
        "colab": {
          "base_uri": "https://localhost:8080/"
        },
        "outputId": "9410ca8a-bfe2-43ef-d3ad-750f031aa9cf"
      },
      "outputs": [
        {
          "output_type": "stream",
          "name": "stdout",
          "text": [
            "python!\n",
            "!python!\n",
            "!python\n"
          ]
        }
      ],
      "source": [
        "word = \"python          \"\n",
        "print(word.rstrip() + \"!\") # strips the white space characters to the left of string\n",
        "\n",
        "word = \"       python        \"\n",
        "print(\"!\" + word.strip() + \"!\") # strips white space characters to the left or right of string\n",
        "\n",
        "word = \"           python\"\n",
        "print(\"!\" + word.lstrip()) # strips white space characters to the left of string"
      ]
    },
    {
      "cell_type": "markdown",
      "source": [
        "2.3. **split()**, **split(\"\\t\")**, and **split(\"\\n\")**\n",
        "\n",
        "The **split()** method splits the string into a list of substrings based on whitespace characters (spaces, tabs, and newlines) by default. In this case, it splits the string word into a list of substrings where each substring is separated by one or more whitespace characters. The resulting list contains all the substrings found in the original string, with whitespace characters removed."
      ],
      "metadata": {
        "id": "WuLZovk_V_Ud"
      }
    },
    {
      "cell_type": "code",
      "source": [
        "word = \"         p y T hon    !    $    s s  . sss  \"\n",
        "print(word.split()) # splits string into substrings with no white space present; if no specific white space character is specified strips every white space character from the substring"
      ],
      "metadata": {
        "id": "3O5cvI4LXH40",
        "colab": {
          "base_uri": "https://localhost:8080/"
        },
        "outputId": "213af2d3-01e4-4a2b-b9de-b94e2537e0cc"
      },
      "execution_count": null,
      "outputs": [
        {
          "output_type": "stream",
          "name": "stdout",
          "text": [
            "['p', 'y', 'T', 'hon', '!', '$', 's', 's', '.', 'sss']\n"
          ]
        }
      ]
    },
    {
      "cell_type": "code",
      "source": [
        "word = \"  P y Th   o  n ! !\"\n",
        "print(word.join([\"sub1\", \"xyz\", \"...\"]))   # inserts the string given string in between the arguments given to the method"
      ],
      "metadata": {
        "colab": {
          "base_uri": "https://localhost:8080/"
        },
        "id": "btfog3HmP8jY",
        "outputId": "a68a0401-da5f-4f20-c936-9ac080a5c44d"
      },
      "execution_count": null,
      "outputs": [
        {
          "output_type": "stream",
          "name": "stdout",
          "text": [
            "sub1  P y Th   o  n ! !xyz  P y Th   o  n ! !...\n"
          ]
        }
      ]
    },
    {
      "cell_type": "code",
      "source": [],
      "metadata": {
        "id": "Bx8mxO4aP8bT"
      },
      "execution_count": null,
      "outputs": []
    },
    {
      "cell_type": "markdown",
      "metadata": {
        "id": "XgEeYYmsM4p2"
      },
      "source": [
        "### Exercise:\n",
        "\n",
        "Write a snippet to convert the \" hi ! this is a st r i ng : \" string to uppercase, strip the white spaces, and join them with [\"one\", \"2\", \"***\",]."
      ]
    },
    {
      "cell_type": "code",
      "source": [
        "#Code here\n",
        "\n",
        "word = \" hi ! this is a st r i ng : \"\n",
        "word = word.upper()\n",
        "word = word.strip()\n",
        "word = word.join([\"one\", \"2\", \"***\",])\n",
        "print(word)"
      ],
      "metadata": {
        "id": "p-x1qrWLbzG_",
        "colab": {
          "base_uri": "https://localhost:8080/"
        },
        "outputId": "afae4d64-3b03-4a2e-a646-95ed1c8d563a"
      },
      "execution_count": null,
      "outputs": [
        {
          "output_type": "stream",
          "name": "stdout",
          "text": [
            "oneHI ! THIS IS A ST R I NG :2HI ! THIS IS A ST R I NG :***\n"
          ]
        }
      ]
    },
    {
      "cell_type": "code",
      "source": [
        "print(dir(word))"
      ],
      "metadata": {
        "colab": {
          "base_uri": "https://localhost:8080/"
        },
        "id": "ojyMgt_4Vy2U",
        "outputId": "ccdd7899-f181-4659-a097-be9b7e4c6f79"
      },
      "execution_count": null,
      "outputs": [
        {
          "output_type": "stream",
          "name": "stdout",
          "text": [
            "['__add__', '__class__', '__contains__', '__delattr__', '__dir__', '__doc__', '__eq__', '__format__', '__ge__', '__getattribute__', '__getitem__', '__getnewargs__', '__gt__', '__hash__', '__init__', '__init_subclass__', '__iter__', '__le__', '__len__', '__lt__', '__mod__', '__mul__', '__ne__', '__new__', '__reduce__', '__reduce_ex__', '__repr__', '__rmod__', '__rmul__', '__setattr__', '__sizeof__', '__str__', '__subclasshook__', 'capitalize', 'casefold', 'center', 'count', 'encode', 'endswith', 'expandtabs', 'find', 'format', 'format_map', 'index', 'isalnum', 'isalpha', 'isascii', 'isdecimal', 'isdigit', 'isidentifier', 'islower', 'isnumeric', 'isprintable', 'isspace', 'istitle', 'isupper', 'join', 'ljust', 'lower', 'lstrip', 'maketrans', 'partition', 'removeprefix', 'removesuffix', 'replace', 'rfind', 'rindex', 'rjust', 'rpartition', 'rsplit', 'rstrip', 'split', 'splitlines', 'startswith', 'strip', 'swapcase', 'title', 'translate', 'upper', 'zfill']\n"
          ]
        }
      ]
    },
    {
      "cell_type": "code",
      "source": [
        "print(help(word.swapcase))"
      ],
      "metadata": {
        "colab": {
          "base_uri": "https://localhost:8080/"
        },
        "id": "X5WpqXz2Xetd",
        "outputId": "8368891d-e8ac-41ec-fcdf-d6b0231bd763"
      },
      "execution_count": null,
      "outputs": [
        {
          "output_type": "stream",
          "name": "stdout",
          "text": [
            "Help on built-in function swapcase:\n",
            "\n",
            "swapcase() method of builtins.str instance\n",
            "    Convert uppercase characters to lowercase and lowercase characters to uppercase.\n",
            "\n",
            "None\n"
          ]
        }
      ]
    },
    {
      "cell_type": "code",
      "source": [
        "print(dir())"
      ],
      "metadata": {
        "colab": {
          "base_uri": "https://localhost:8080/"
        },
        "id": "SxLbWjZWZPSQ",
        "outputId": "8b93c8c5-862a-4e55-8847-8e611e2721aa"
      },
      "execution_count": null,
      "outputs": [
        {
          "output_type": "stream",
          "name": "stdout",
          "text": [
            "['In', 'MyEmptyClass', 'Out', '_', '_10', '_12', '_14', '_20', '_29', '_30', '_31', '_34', '_35', '_37', '_49', '_53', '_55', '_83', '__', '___', '__builtin__', '__builtins__', '__doc__', '__loader__', '__name__', '__package__', '__spec__', '_dh', '_i', '_i1', '_i10', '_i11', '_i12', '_i13', '_i14', '_i15', '_i16', '_i17', '_i18', '_i19', '_i2', '_i20', '_i21', '_i22', '_i23', '_i24', '_i25', '_i26', '_i27', '_i28', '_i29', '_i3', '_i30', '_i31', '_i32', '_i33', '_i34', '_i35', '_i36', '_i37', '_i38', '_i39', '_i4', '_i40', '_i41', '_i42', '_i43', '_i44', '_i45', '_i46', '_i47', '_i48', '_i49', '_i5', '_i50', '_i51', '_i52', '_i53', '_i54', '_i55', '_i56', '_i57', '_i58', '_i59', '_i6', '_i60', '_i61', '_i62', '_i63', '_i64', '_i65', '_i66', '_i67', '_i68', '_i69', '_i7', '_i70', '_i71', '_i72', '_i73', '_i74', '_i75', '_i76', '_i77', '_i78', '_i79', '_i8', '_i80', '_i81', '_i82', '_i83', '_i84', '_i9', '_ih', '_ii', '_iii', '_oh', 'a', 'active_users', 'args', 'at_least_one_condition', 'b', 'both_conditions', 'c', 'd', 'e', 'exit', 'f', 'get_ipython', 'i', 'initlog', 'make_incrementor', 'my_float', 'my_function', 'my_number', 'n', 'nums', 'parrot', 'price', 'quit', 'result', 'sequence', 'status', 'sum_lambda', 'user', 'users', 'w', 'word', 'word2', 'words', 'x', 'x_not_greater_than_y', 'y', 'z', 'z1', 'z2', 'z3', 'z4', 'z5', 'z6', 'z7']\n"
          ]
        }
      ]
    },
    {
      "cell_type": "markdown",
      "metadata": {
        "id": "nwQkSjn5M4p3"
      },
      "source": [
        "## 3. Integers & floats"
      ]
    },
    {
      "cell_type": "markdown",
      "source": [
        "3.1.\n",
        "\n",
        "Integers and floats are two different types of numeric data types.\n",
        "\n",
        "Integers are whole numbers, either positive, negative, or zero. They can be defined in Python using the \"int\" keyword.\n",
        "\n",
        "A float is a numeric data type that represents decimal numbers.\n"
      ],
      "metadata": {
        "id": "XDmf2em3dfCB"
      }
    },
    {
      "cell_type": "code",
      "source": [
        "my_number = 354\n",
        "#Checking Data Types: You can use the type() function to check what is the data type of a particular variable.\n",
        "print(type(my_number))"
      ],
      "metadata": {
        "colab": {
          "base_uri": "https://localhost:8080/"
        },
        "id": "yHKS_eprewhc",
        "outputId": "2577e91e-2448-40bd-b6ee-e3e6b37dba26"
      },
      "execution_count": null,
      "outputs": [
        {
          "output_type": "stream",
          "name": "stdout",
          "text": [
            "<class 'int'>\n"
          ]
        }
      ]
    },
    {
      "cell_type": "code",
      "source": [
        "my_float = 5.6\n",
        "print(\"my_float\")\n",
        "print(my_float)\n",
        "print(type(my_float))\n"
      ],
      "metadata": {
        "colab": {
          "base_uri": "https://localhost:8080/"
        },
        "id": "w4G_IY54e4WD",
        "outputId": "0146ebf6-69f4-4d0e-d21a-76f7fd5329be"
      },
      "execution_count": null,
      "outputs": [
        {
          "output_type": "stream",
          "name": "stdout",
          "text": [
            "my_float\n",
            "5.6\n",
            "<class 'float'>\n"
          ]
        }
      ]
    },
    {
      "cell_type": "markdown",
      "source": [
        "3.2. **Convert a float number to an integer**\n",
        "\n",
        "If you want to convert a float number to an integer, you can use the \"int\" keyword. However, this will truncate the decimal part of the number:"
      ],
      "metadata": {
        "id": "HhQGq2B5fy9T"
      }
    },
    {
      "cell_type": "code",
      "source": [
        "int(my_float)"
      ],
      "metadata": {
        "colab": {
          "base_uri": "https://localhost:8080/"
        },
        "id": "b_TWPR7yfp4y",
        "outputId": "00627b7a-7dab-4dca-ea1b-09396d50ddb7"
      },
      "execution_count": null,
      "outputs": [
        {
          "output_type": "execute_result",
          "data": {
            "text/plain": [
              "5"
            ]
          },
          "metadata": {},
          "execution_count": 83
        }
      ]
    },
    {
      "cell_type": "code",
      "source": [
        "price = 100.50   # float\n",
        "price * 2       # python implicitly converts the data type of int operand to float if the other one is float"
      ],
      "metadata": {
        "colab": {
          "base_uri": "https://localhost:8080/"
        },
        "id": "WAke6RDGlrXO",
        "outputId": "151d618f-2abe-424e-fbe9-befa18b17e1b"
      },
      "execution_count": null,
      "outputs": [
        {
          "output_type": "execute_result",
          "data": {
            "text/plain": [
              "201.0"
            ]
          },
          "metadata": {},
          "execution_count": 14
        }
      ]
    },
    {
      "cell_type": "markdown",
      "source": [
        "3.3. The lines below should be tested in the interactive space for a better response:\n"
      ],
      "metadata": {
        "id": "YpFr0ZJYmUQd"
      }
    },
    {
      "cell_type": "code",
      "source": [
        "print(_)\n",
        "price + _\n",
        "round(_, 2)"
      ],
      "metadata": {
        "id": "CNJbI35imIqH",
        "colab": {
          "base_uri": "https://localhost:8080/"
        },
        "outputId": "6f771027-53f0-4e13-ac6f-196f1161e7ff"
      },
      "execution_count": null,
      "outputs": [
        {
          "output_type": "stream",
          "name": "stdout",
          "text": [
            "5\n"
          ]
        },
        {
          "output_type": "execute_result",
          "data": {
            "text/plain": [
              "5"
            ]
          },
          "metadata": {},
          "execution_count": 85
        }
      ]
    },
    {
      "cell_type": "markdown",
      "source": [
        "3.4. **Variable creation and assigning values**\n",
        "\n",
        "This creates two variables named x and y and assigns them the values of 2 and 4, respectively. These variables can now be used in further computations or printed to the console using the print() function:"
      ],
      "metadata": {
        "id": "uqYEpQR6f_kL"
      }
    },
    {
      "cell_type": "code",
      "source": [
        "x = 2\n",
        "y = 4\n",
        "print(x,\"\\n\",y)"
      ],
      "metadata": {
        "colab": {
          "base_uri": "https://localhost:8080/"
        },
        "id": "X-qCfdnfhDjq",
        "outputId": "bf186621-2751-4200-cf54-bd2a5758501e"
      },
      "execution_count": null,
      "outputs": [
        {
          "output_type": "stream",
          "name": "stdout",
          "text": [
            "2 \n",
            " 4\n"
          ]
        }
      ]
    },
    {
      "cell_type": "markdown",
      "source": [
        "3.5. **Multiple assignments**\n",
        "\n",
        "To assign multiple values to multiple variables in a single statement."
      ],
      "metadata": {
        "id": "PAG1iH6fhEmB"
      }
    },
    {
      "cell_type": "code",
      "source": [
        "a, b = 2, 4\n",
        "c, d, e = 4, 7., \"hey\""
      ],
      "metadata": {
        "id": "7ysGpl7ygb1S"
      },
      "execution_count": null,
      "outputs": []
    },
    {
      "cell_type": "markdown",
      "source": [
        "3.6.**Python logical operators**\n",
        "\n",
        "In Python, there are three logical operators:\n",
        "\n",
        "**and:** The and operator returns True if both operands are True, otherwise it returns False.\n",
        "\n",
        "**or:** The or operator returns True if at least one operand is True, otherwise it returns False.\n",
        "\n",
        "**not:** The not operator returns the opposite of the boolean value of its operand. If the operand is True, it returns False, and if the operand is False, it returns True.\n"
      ],
      "metadata": {
        "id": "Packzci_hMgK"
      }
    },
    {
      "cell_type": "code",
      "source": [
        "x = 5\n",
        "y = 10\n",
        "z = 15\n",
        "\n",
        "# using and operator\n",
        "both_conditions = x < y and z > y\n",
        "print(both_conditions)\n",
        "\n",
        "# using or operator\n",
        "at_least_one_condition = x < y or z < y\n",
        "print(at_least_one_condition)\n",
        "\n",
        "# using not operator\n",
        "x_not_greater_than_y = not x > y\n",
        "print(x_not_greater_than_y)\n"
      ],
      "metadata": {
        "colab": {
          "base_uri": "https://localhost:8080/"
        },
        "id": "GG-fhx2nxmGq",
        "outputId": "b0b44b52-8727-413b-de24-99fa18aa5d71"
      },
      "execution_count": null,
      "outputs": [
        {
          "output_type": "stream",
          "name": "stdout",
          "text": [
            "True\n",
            "True\n",
            "True\n"
          ]
        }
      ]
    },
    {
      "cell_type": "markdown",
      "source": [
        "3.6. **Common arithmetic operators**"
      ],
      "metadata": {
        "id": "0jIMqLqLhn38"
      }
    },
    {
      "cell_type": "code",
      "source": [
        "z1 = x + y       # addition operation\n",
        "z2 = x - y       # subtraction operation\n",
        "z3 = x / y       # division operation\n",
        "z4 = x * y       # multiplication operation\n",
        "z5 = x // y      # floor division: integer quotient when x is divided by y, discarding any fractional part\n",
        "z6 = x % y       # modulus operation: returns the remainder of the division of x by y.\n",
        "z7 = x ** y      # raises the value of x to the power of y. This is called exponentiation.\n",
        "print(z1, \"\\n\",z2, \"\\n\",z3, \"\\n\",z4, \"\\n\",z5, \"\\n\",z6, \"\\n\",z7)"
      ],
      "metadata": {
        "colab": {
          "base_uri": "https://localhost:8080/"
        },
        "id": "76Mowfw3ijWN",
        "outputId": "8b889efb-cb80-4d30-bb98-0d32ffef2d46"
      },
      "execution_count": null,
      "outputs": [
        {
          "output_type": "stream",
          "name": "stdout",
          "text": [
            "15 \n",
            " -5 \n",
            " 0.5 \n",
            " 50 \n",
            " 0 \n",
            " 5 \n",
            " 9765625\n"
          ]
        }
      ]
    },
    {
      "cell_type": "markdown",
      "source": [
        "3.7. Assignment operators\n"
      ],
      "metadata": {
        "id": "i336r-vck2RK"
      }
    },
    {
      "cell_type": "code",
      "source": [
        "z += y          # short hand for z = z + y\n",
        "z -= y          # short hand for z = z - y\n",
        "z *= y          # short hand for z = z * y\n",
        "# z /= y        # short hand for z = z / y\n",
        "z %= y          # short hand for z = z % y\n",
        "z //= y         # short hand for z = z // y\n",
        "z **= y         # short hand for z = z ** y"
      ],
      "metadata": {
        "id": "3hFx8Yk5ifJp"
      },
      "execution_count": null,
      "outputs": []
    },
    {
      "cell_type": "markdown",
      "source": [
        "3.8. Comparison operations\n"
      ],
      "metadata": {
        "id": "R6CM7OiIkuoG"
      }
    },
    {
      "cell_type": "code",
      "source": [
        "z > x\n",
        "z < x\n",
        "z == x          # returns True if the value of z is equal to the value of x, otherwise False.\n",
        "z != x          # returns True if the value of z is not equal to the value of x, otherwise False.\n",
        "z >= x\n",
        "z <= x"
      ],
      "metadata": {
        "id": "w00TX5UoinGz",
        "colab": {
          "base_uri": "https://localhost:8080/"
        },
        "outputId": "58f794e0-a110-432f-a297-87aea3466ece"
      },
      "execution_count": null,
      "outputs": [
        {
          "output_type": "execute_result",
          "data": {
            "text/plain": [
              "True"
            ]
          },
          "metadata": {},
          "execution_count": 20
        }
      ]
    },
    {
      "cell_type": "markdown",
      "source": [
        "3.9.**Identity operators**\n",
        "\n",
        "Identity operators are operators that are used to compare the memory locations of two objects in Python. There are two identity operators in Python:\n",
        "\n",
        "\"is\" operator: This operator returns True if two variables refer to the same object, otherwise False.\n",
        "\n",
        "\"is not\" operator: This operator returns True if two variables do not refer to the same object, otherwise False.\n",
        "\n",
        "Identity operators are useful when you need to check if two variables refer to the same object in memory. This is different from the \"==\" operator, which compares the values of two variables."
      ],
      "metadata": {
        "id": "slRsKRFCmcGz"
      }
    },
    {
      "cell_type": "code",
      "execution_count": null,
      "metadata": {
        "id": "ZBpvQzeVM4p3",
        "outputId": "8e2a56f2-4448-4e34-c497-078c31fce5b6",
        "colab": {
          "base_uri": "https://localhost:8080/"
        }
      },
      "outputs": [
        {
          "output_type": "stream",
          "name": "stdout",
          "text": [
            "True\n",
            "False\n"
          ]
        }
      ],
      "source": [
        "x, y = 2, 2\n",
        "nums = [4, 8, 10, 12., 1+2j, -4, -7.,]\n",
        "print(y is x)\n",
        "print(y is not x)"
      ]
    },
    {
      "cell_type": "markdown",
      "source": [
        "3.10.**Membership operators**\n",
        "\n",
        "Membership operators are operators that are used to test for membership in a sequence or collection of elements in Python. There are two membership operators in Python:\n",
        "\n",
        "\"in\" operator: This operator returns True if a specified value is found in a sequence or collection, otherwise False.\n",
        "\n",
        "\"not in\" operator: This operator returns True if a specified value is NOT found in a sequence or collection, otherwise False."
      ],
      "metadata": {
        "id": "AnByT3B5mhWT"
      }
    },
    {
      "cell_type": "code",
      "source": [
        "nums = [4, 8, 10, 12., 1+2j, -4, -7.,]\n",
        "print(2 in nums)\n",
        "print(2 not in nums)"
      ],
      "metadata": {
        "id": "1N4rScmqmgQ1",
        "colab": {
          "base_uri": "https://localhost:8080/"
        },
        "outputId": "6b6b0332-2533-434f-a264-bcdc3bdf146b"
      },
      "execution_count": null,
      "outputs": [
        {
          "output_type": "stream",
          "name": "stdout",
          "text": [
            "False\n",
            "True\n"
          ]
        }
      ]
    },
    {
      "cell_type": "markdown",
      "source": [
        "# 3.11. Extra info:\n"
      ],
      "metadata": {
        "id": "I5iduzfNl2e-"
      }
    },
    {
      "cell_type": "markdown",
      "source": [
        "Bitwise operators: Six bitwise operators that can be used to manipulate binary representations of integers\n"
      ],
      "metadata": {
        "id": "1cQQ1Cl3l6tL"
      }
    },
    {
      "cell_type": "code",
      "source": [
        "# &            AND operator                        Sets each bit to 1 if both bits are 1\n",
        "# |            OR operator                         Sets each bit to 1 if one of two bits is 1\n",
        "# ^            XOR operator                        Sets each bit to 1 if only one of two bits is 1\n",
        "# ~            NOT operator                        Inverts all the bits\n",
        "# <<           zero fill left shift operator       Shift left by pushing zeros in from the right and let the leftmost bits fall off\n",
        "# >>           signed right shift operator         Shift right by pushing copies of the leftmost bit in from the left, and let the rightmost bits fall off\n",
        "\n",
        "#z &= y        short hand for z = z & y\n",
        "#z |= y        short hand for z = z | y\n",
        "#z ^= y        short hand for z = z ^ y\n"
      ],
      "metadata": {
        "id": "avDsJZ1cl04s"
      },
      "execution_count": null,
      "outputs": []
    },
    {
      "cell_type": "markdown",
      "source": [
        "#4. Input\n",
        "\n",
        "Prints a string into the console, and asks the user for a string input."
      ],
      "metadata": {
        "id": "qy3NhhzHrx_u"
      }
    },
    {
      "cell_type": "code",
      "source": [
        "input(\"What's your name\")"
      ],
      "metadata": {
        "id": "4Apol-7cryNt",
        "colab": {
          "base_uri": "https://localhost:8080/",
          "height": 52
        },
        "outputId": "40c07671-725e-4fda-9039-7cc8e556faf0"
      },
      "execution_count": null,
      "outputs": [
        {
          "name": "stdout",
          "output_type": "stream",
          "text": [
            "What's your namesss\n"
          ]
        },
        {
          "output_type": "execute_result",
          "data": {
            "text/plain": [
              "'sss'"
            ],
            "application/vnd.google.colaboratory.intrinsic+json": {
              "type": "string"
            }
          },
          "metadata": {},
          "execution_count": 89
        }
      ]
    },
    {
      "cell_type": "markdown",
      "metadata": {
        "id": "TFO0LvSJM4p4"
      },
      "source": [
        "# 5. if and elif statement\n",
        "***If*** is the basic syntax to test if a condition is true. If so, the indented code will be executed, if not it will be skipped.\n",
        "\n",
        "In addition to the initial *If* statement condition, you can add extra conditions to test if the first condition is false. Once an elif condition is true, the rest of the elif conditions are no longer checked and are skipped."
      ]
    },
    {
      "cell_type": "code",
      "source": [
        "x = 10\n",
        "if x < 10:\n",
        "  print(\"x is less than 10\")\n",
        "elif x < -4:\n",
        "  pass\n",
        "else:\n",
        "  print(\"hey it's in none of the cases\")"
      ],
      "metadata": {
        "colab": {
          "base_uri": "https://localhost:8080/"
        },
        "id": "Wy1TqjGBjISh",
        "outputId": "b6dabad5-fcb8-4422-8e1e-487eec9d2f7e"
      },
      "execution_count": null,
      "outputs": [
        {
          "output_type": "stream",
          "name": "stdout",
          "text": [
            "hey it's in none of the cases\n"
          ]
        }
      ]
    },
    {
      "cell_type": "code",
      "execution_count": null,
      "metadata": {
        "id": "qXA199aEM4p4",
        "colab": {
          "base_uri": "https://localhost:8080/"
        },
        "outputId": "20f877d8-6889-4bff-8e78-533b0a240421"
      },
      "outputs": [
        {
          "output_type": "stream",
          "name": "stdout",
          "text": [
            "Please enter an integer: 5\n",
            "other values!\n"
          ]
        }
      ],
      "source": [
        "#Input function combined with if and elif statements\n",
        "\n",
        "x = int(input(\"Please enter an integer: \"))\n",
        "\n",
        "#x = int(float(input(\"Please enter a number: \")))\n",
        "\n",
        "if x < 0:\n",
        "    print(\"negative value\")\n",
        "\n",
        "    # nested if\n",
        "    if x < -2 and x > -5:\n",
        "        print(\"The number is in range [-5, -2]\")\n",
        "\n",
        "elif x == 0:\n",
        "    print('0 is the answer')\n",
        "elif x == 1:\n",
        "    print('1 is the answer')\n",
        "else:\n",
        "    print('other values!')"
      ]
    },
    {
      "cell_type": "markdown",
      "metadata": {
        "id": "AJmeFb4pM4p4"
      },
      "source": [
        "# 6. for statements\n",
        "\n",
        "A **for** loop is a control structure in Python that allows you to iterate over a sequence of elements, such as a list, tuple, or string. Here's an example of a for loop that iterates over a list of words and prints each string and its length:"
      ]
    },
    {
      "cell_type": "code",
      "source": [
        "words = ['cat', 'window', 'defenestrate']\n",
        "for w in words:\n",
        "    print(w, len(w))"
      ],
      "metadata": {
        "id": "_OuCvM9Z4eEC",
        "colab": {
          "base_uri": "https://localhost:8080/"
        },
        "outputId": "56b08c9b-0c2e-4134-f5e3-1403a0257d93"
      },
      "execution_count": null,
      "outputs": [
        {
          "output_type": "stream",
          "name": "stdout",
          "text": [
            "cat 3\n",
            "window 6\n",
            "defenestrate 12\n"
          ]
        }
      ]
    },
    {
      "cell_type": "code",
      "execution_count": null,
      "metadata": {
        "id": "WQxWvAuIM4p4",
        "outputId": "19c5e3a5-3009-4e26-c72c-05afdae16947",
        "colab": {
          "base_uri": "https://localhost:8080/"
        }
      },
      "outputs": [
        {
          "output_type": "stream",
          "name": "stdout",
          "text": [
            "active\n",
            "{'Hans': 'active', '景太郎': 'active'}\n"
          ]
        }
      ],
      "source": [
        "# Create a sample collection\n",
        "users = {'Hans': 'active', 'Éléonore': 'inactive', '景太郎': 'active'}\n",
        "print(users[\"Hans\"])\n",
        "# Strategy:  Iterate over key value pairs of a copy and delete values that match \"inactive\" string\n",
        "for i, v in users.copy().items():\n",
        "    if v == 'inactive':\n",
        "        del users[i]\n",
        "print(users)"
      ]
    },
    {
      "cell_type": "code",
      "source": [
        "# Create a new collection containing the item which have \"active\" string as the value in key value pairs retrieved\n",
        "active_users = {}\n",
        "for i, j in users.items():\n",
        "    if j == 'active':\n",
        "        active_users[i] = j\n",
        "print(active_users)"
      ],
      "metadata": {
        "id": "K3Ft4AmS9tZl",
        "colab": {
          "base_uri": "https://localhost:8080/"
        },
        "outputId": "28c1ed0c-86b9-4047-c08f-acc01534dba2"
      },
      "execution_count": null,
      "outputs": [
        {
          "output_type": "stream",
          "name": "stdout",
          "text": [
            "{'Hans': 'active', '景太郎': 'active'}\n"
          ]
        }
      ]
    },
    {
      "cell_type": "markdown",
      "metadata": {
        "id": "b9Xa9hDuM4p5"
      },
      "source": [
        "# 7. del statement\n",
        "\n",
        "The **del** statement is a built-in Python statement used to delete objects. It can be used to remove variables, items from a collection, and attributes from an object."
      ]
    },
    {
      "cell_type": "code",
      "execution_count": null,
      "metadata": {
        "id": "PVlSmd3CM4p5",
        "colab": {
          "base_uri": "https://localhost:8080/"
        },
        "outputId": "88d446f2-6d8d-47cb-b34a-219e584e2081"
      },
      "outputs": [
        {
          "output_type": "execute_result",
          "data": {
            "text/plain": [
              "[1, 66.25, 333, 333, 1234.5]"
            ]
          },
          "metadata": {},
          "execution_count": 29
        }
      ],
      "source": [
        "a = [-1, 1, 66.25, 333, 333, 1234.5]\n",
        "del a[0]\n",
        "a"
      ]
    },
    {
      "cell_type": "code",
      "source": [
        "del a[2:4]         # The slice a[2:4] represents a part of the original sequence a, containing elements from the index 2 up to but not including index 4.\n",
        "a"
      ],
      "metadata": {
        "colab": {
          "base_uri": "https://localhost:8080/"
        },
        "id": "CzEkg_5b-NVE",
        "outputId": "a987a2ed-6551-4c89-925b-5b611469084c"
      },
      "execution_count": null,
      "outputs": [
        {
          "output_type": "execute_result",
          "data": {
            "text/plain": [
              "[1, 66.25, 1234.5]"
            ]
          },
          "metadata": {},
          "execution_count": 30
        }
      ]
    },
    {
      "cell_type": "code",
      "source": [
        "del a[:]           #The slice a[:] is a full slice\n",
        "a"
      ],
      "metadata": {
        "colab": {
          "base_uri": "https://localhost:8080/"
        },
        "id": "41BHQkTY-Pu8",
        "outputId": "fb3d9df0-ab1a-4ca4-f271-c3aff46a4a96"
      },
      "execution_count": null,
      "outputs": [
        {
          "output_type": "execute_result",
          "data": {
            "text/plain": [
              "[]"
            ]
          },
          "metadata": {},
          "execution_count": 31
        }
      ]
    },
    {
      "cell_type": "markdown",
      "metadata": {
        "id": "QYUP-0BVM4p5"
      },
      "source": [
        "## 8. Generator Expressions"
      ]
    },
    {
      "cell_type": "markdown",
      "source": [
        "Generator expressions allow you to create an iterator that generates a sequence of values on-the-fly, without creating a full list in memory. This can be very useful when working with large datasets, as it allows you to process the data one piece at a time, without needing to load the entire dataset into memory at once."
      ],
      "metadata": {
        "id": "QhjSpbktElaJ"
      }
    },
    {
      "cell_type": "code",
      "execution_count": null,
      "metadata": {
        "id": "q5bJtbvmM4p5",
        "colab": {
          "base_uri": "https://localhost:8080/"
        },
        "outputId": "a1e90be7-9e9a-4287-cb3a-f0f5e8dc71b2"
      },
      "outputs": [
        {
          "output_type": "stream",
          "name": "stdout",
          "text": [
            "['', 'hey']\n"
          ]
        }
      ],
      "source": [
        "a = [1, True, False, 0, 2, -2, \"\", \"hey\", None, []]\n",
        "\n",
        "def f(x):\n",
        "    if type(x) == str:\n",
        "        return True\n",
        "\n",
        "result = (item for item in a if f(item)) # returns a generator object\n",
        "print(list(result))"
      ]
    },
    {
      "cell_type": "markdown",
      "metadata": {
        "id": "9scVzlHgM4p5"
      },
      "source": [
        "# 9. Range function\n",
        "\n",
        "9.1. The **range()** function in Python is used to generate a sequence of numbers. It can take up to three arguments:\n",
        "\n",
        "start (optional) - the starting value of the sequence (defaults to 0)\n",
        "\n",
        "stop - the ending value of the sequence (not included in the sequence)\n",
        "\n",
        "step (optional) - the step size between each number in the sequence (defaults to 1)"
      ]
    },
    {
      "cell_type": "code",
      "source": [
        "print(help(range))"
      ],
      "metadata": {
        "colab": {
          "base_uri": "https://localhost:8080/"
        },
        "id": "-IQAnJXt0p5S",
        "outputId": "9d094007-9bcd-499b-887e-2626b11d8931"
      },
      "execution_count": null,
      "outputs": [
        {
          "output_type": "stream",
          "name": "stdout",
          "text": [
            "Help on class range in module builtins:\n",
            "\n",
            "class range(object)\n",
            " |  range(stop) -> range object\n",
            " |  range(start, stop[, step]) -> range object\n",
            " |  \n",
            " |  Return an object that produces a sequence of integers from start (inclusive)\n",
            " |  to stop (exclusive) by step.  range(i, j) produces i, i+1, i+2, ..., j-1.\n",
            " |  start defaults to 0, and stop is omitted!  range(4) produces 0, 1, 2, 3.\n",
            " |  These are exactly the valid indices for a list of 4 elements.\n",
            " |  When step is given, it specifies the increment (or decrement).\n",
            " |  \n",
            " |  Methods defined here:\n",
            " |  \n",
            " |  __bool__(self, /)\n",
            " |      True if self else False\n",
            " |  \n",
            " |  __contains__(self, key, /)\n",
            " |      Return key in self.\n",
            " |  \n",
            " |  __eq__(self, value, /)\n",
            " |      Return self==value.\n",
            " |  \n",
            " |  __ge__(self, value, /)\n",
            " |      Return self>=value.\n",
            " |  \n",
            " |  __getattribute__(self, name, /)\n",
            " |      Return getattr(self, name).\n",
            " |  \n",
            " |  __getitem__(self, key, /)\n",
            " |      Return self[key].\n",
            " |  \n",
            " |  __gt__(self, value, /)\n",
            " |      Return self>value.\n",
            " |  \n",
            " |  __hash__(self, /)\n",
            " |      Return hash(self).\n",
            " |  \n",
            " |  __iter__(self, /)\n",
            " |      Implement iter(self).\n",
            " |  \n",
            " |  __le__(self, value, /)\n",
            " |      Return self<=value.\n",
            " |  \n",
            " |  __len__(self, /)\n",
            " |      Return len(self).\n",
            " |  \n",
            " |  __lt__(self, value, /)\n",
            " |      Return self<value.\n",
            " |  \n",
            " |  __ne__(self, value, /)\n",
            " |      Return self!=value.\n",
            " |  \n",
            " |  __reduce__(...)\n",
            " |      Helper for pickle.\n",
            " |  \n",
            " |  __repr__(self, /)\n",
            " |      Return repr(self).\n",
            " |  \n",
            " |  __reversed__(...)\n",
            " |      Return a reverse iterator.\n",
            " |  \n",
            " |  count(...)\n",
            " |      rangeobject.count(value) -> integer -- return number of occurrences of value\n",
            " |  \n",
            " |  index(...)\n",
            " |      rangeobject.index(value) -> integer -- return index of value.\n",
            " |      Raise ValueError if the value is not present.\n",
            " |  \n",
            " |  ----------------------------------------------------------------------\n",
            " |  Static methods defined here:\n",
            " |  \n",
            " |  __new__(*args, **kwargs) from builtins.type\n",
            " |      Create and return a new object.  See help(type) for accurate signature.\n",
            " |  \n",
            " |  ----------------------------------------------------------------------\n",
            " |  Data descriptors defined here:\n",
            " |  \n",
            " |  start\n",
            " |  \n",
            " |  step\n",
            " |  \n",
            " |  stop\n",
            "\n",
            "None\n"
          ]
        }
      ]
    },
    {
      "cell_type": "code",
      "execution_count": null,
      "metadata": {
        "id": "vGXJ1FbxM4p5",
        "colab": {
          "base_uri": "https://localhost:8080/"
        },
        "outputId": "df498ce0-9dfd-4f4c-b73d-69272522be0e"
      },
      "outputs": [
        {
          "output_type": "stream",
          "name": "stdout",
          "text": [
            "8\n",
            "9\n",
            "10\n",
            "11\n",
            "12\n",
            "13\n",
            "14\n"
          ]
        }
      ],
      "source": [
        "for i in range(8, 15):\n",
        "    print(i)"
      ]
    },
    {
      "cell_type": "markdown",
      "source": [
        "9.2. To generate a list of numbers starting from 5 (inclusive) and ending at 10 (exclusive), with a step size of 1."
      ],
      "metadata": {
        "id": "emFftkWtHQK0"
      }
    },
    {
      "cell_type": "code",
      "source": [
        "print(range(5))"
      ],
      "metadata": {
        "colab": {
          "base_uri": "https://localhost:8080/"
        },
        "id": "RzYNnlw10-KC",
        "outputId": "443b5603-e077-485e-88d0-54760d1b0247"
      },
      "execution_count": null,
      "outputs": [
        {
          "output_type": "stream",
          "name": "stdout",
          "text": [
            "range(0, 5)\n"
          ]
        }
      ]
    },
    {
      "cell_type": "code",
      "source": [
        "list(range(5, 10))"
      ],
      "metadata": {
        "colab": {
          "base_uri": "https://localhost:8080/"
        },
        "id": "m3wrWPVWFCiA",
        "outputId": "dbfefdab-2367-4c4d-ca87-a14cd01569d9"
      },
      "execution_count": null,
      "outputs": [
        {
          "output_type": "execute_result",
          "data": {
            "text/plain": [
              "[5, 6, 7, 8, 9]"
            ]
          },
          "metadata": {},
          "execution_count": 34
        }
      ]
    },
    {
      "cell_type": "code",
      "source": [
        "print(list(range(0, 10, 3)))\n",
        "print(list(range(-10, -100, -30)))"
      ],
      "metadata": {
        "colab": {
          "base_uri": "https://localhost:8080/"
        },
        "id": "AWVB3QrQFElY",
        "outputId": "a85ee1f7-c060-489d-f217-4f75053a9efb"
      },
      "execution_count": null,
      "outputs": [
        {
          "output_type": "stream",
          "name": "stdout",
          "text": [
            "[0, 3, 6, 9]\n",
            "[-10, -40, -70]\n"
          ]
        }
      ]
    },
    {
      "cell_type": "markdown",
      "source": [
        "9.3. Iterate through the list a using a for loop and print each item along with its index."
      ],
      "metadata": {
        "id": "ZO_8d8LSHbo3"
      }
    },
    {
      "cell_type": "code",
      "source": [
        "a = ['Mary', 'had', 'a', 'little', 'lamb']\n",
        "for i in range(len(a)):\n",
        "    print(i, a[i])"
      ],
      "metadata": {
        "colab": {
          "base_uri": "https://localhost:8080/"
        },
        "id": "glHAdN1DE_IP",
        "outputId": "375e7369-e469-4d0e-bc73-4d9689cb3f32"
      },
      "execution_count": null,
      "outputs": [
        {
          "output_type": "stream",
          "name": "stdout",
          "text": [
            "0 Mary\n",
            "1 had\n",
            "2 a\n",
            "3 little\n",
            "4 lamb\n"
          ]
        }
      ]
    },
    {
      "cell_type": "code",
      "source": [
        "sum(range(4))"
      ],
      "metadata": {
        "colab": {
          "base_uri": "https://localhost:8080/"
        },
        "id": "qDC_hxABFmlu",
        "outputId": "a4438b97-bf11-4288-a23b-5f1880469ba6"
      },
      "execution_count": null,
      "outputs": [
        {
          "output_type": "execute_result",
          "data": {
            "text/plain": [
              "6"
            ]
          },
          "metadata": {},
          "execution_count": 37
        }
      ]
    },
    {
      "cell_type": "markdown",
      "metadata": {
        "id": "BtdXN_azM4p6"
      },
      "source": [
        "### Exercise:\n",
        "\n",
        "write a loop that gets an empty list as input and appends the square of the counter to the list and displays it:\n"
      ]
    },
    {
      "cell_type": "code",
      "source": [
        "#write the code here:"
      ],
      "metadata": {
        "id": "Qg9y0MVlGW-O"
      },
      "execution_count": null,
      "outputs": []
    },
    {
      "cell_type": "markdown",
      "metadata": {
        "id": "JAQZil3UM4p6"
      },
      "source": [
        "# 10. break and continue statements and else clasue on loops:"
      ]
    },
    {
      "cell_type": "markdown",
      "metadata": {
        "id": "APv2T6OzM4p6"
      },
      "source": [
        "else satement used within a loop has more in common with the else clause of a try statement than it does with that of if statements: a try statement’s else clause runs when no exception occurs, and a loop’s else clause runs when no break occurs. For more on the try statement and exception"
      ]
    },
    {
      "cell_type": "code",
      "execution_count": null,
      "metadata": {
        "id": "kHBgaRXwM4p6",
        "colab": {
          "base_uri": "https://localhost:8080/"
        },
        "outputId": "2d9883c3-14ee-4024-84d0-44bcbb8fb6bd"
      },
      "outputs": [
        {
          "output_type": "stream",
          "name": "stdout",
          "text": [
            "2 is a prime number\n",
            "3 is a prime number\n",
            "4 equals 2 * 2\n",
            "5 is a prime number\n",
            "6 equals 2 * 3\n",
            "7 is a prime number\n",
            "8 equals 2 * 4\n",
            "9 equals 3 * 3\n"
          ]
        }
      ],
      "source": [
        "for n in range(2, 10):\n",
        "    for x in range(2, n):\n",
        "        if n % x == 0:\n",
        "            print(n, 'equals', x, '*', n//x)\n",
        "            break\n",
        "    else:\n",
        "        # loop fell through without finding a factor\n",
        "        print(n, 'is a prime number')"
      ]
    },
    {
      "cell_type": "markdown",
      "metadata": {
        "id": "Dtnm1NXZM4p6"
      },
      "source": [
        "# 11. Pass statements"
      ]
    },
    {
      "cell_type": "markdown",
      "source": [
        "11.1. The while True: loop will create an infinite loop that continuously executes the pass statement, essentially doing nothing except waiting for a keyboard interrupt (usually triggered by pressing Ctrl+C) to terminate the loop."
      ],
      "metadata": {
        "id": "qu1f8YUzIpnx"
      }
    },
    {
      "cell_type": "code",
      "source": [
        "while True:\n",
        "    pass  # Busy-wait for keyboard interrupt (Ctrl+C)"
      ],
      "metadata": {
        "id": "kYKKdm0mInFb",
        "colab": {
          "base_uri": "https://localhost:8080/",
          "height": 186
        },
        "outputId": "57e491b4-9b94-4c1f-e928-807d2a0bf8e6"
      },
      "execution_count": null,
      "outputs": [
        {
          "output_type": "error",
          "ename": "KeyboardInterrupt",
          "evalue": "ignored",
          "traceback": [
            "\u001b[0;31m---------------------------------------------------------------------------\u001b[0m",
            "\u001b[0;31mKeyboardInterrupt\u001b[0m                         Traceback (most recent call last)",
            "\u001b[0;32m<ipython-input-40-1d3815b702a0>\u001b[0m in \u001b[0;36m<module>\u001b[0;34m\u001b[0m\n\u001b[1;32m      1\u001b[0m \u001b[0;32mwhile\u001b[0m \u001b[0;32mTrue\u001b[0m\u001b[0;34m:\u001b[0m\u001b[0;34m\u001b[0m\u001b[0;34m\u001b[0m\u001b[0m\n\u001b[0;32m----> 2\u001b[0;31m     \u001b[0;32mpass\u001b[0m  \u001b[0;31m# Busy-wait for keyboard interrupt (Ctrl+C)\u001b[0m\u001b[0;34m\u001b[0m\u001b[0;34m\u001b[0m\u001b[0m\n\u001b[0m",
            "\u001b[0;31mKeyboardInterrupt\u001b[0m: "
          ]
        }
      ]
    },
    {
      "cell_type": "markdown",
      "source": [
        "11.2. The MyEmptyClass class is an example of a Python class that has no methods or attributes defined within it. It is often used as a placeholder when creating a class that will be expanded upon later."
      ],
      "metadata": {
        "id": "c2u1Wnq-IjJ4"
      }
    },
    {
      "cell_type": "code",
      "execution_count": null,
      "metadata": {
        "id": "YG9p97GYM4p6"
      },
      "outputs": [],
      "source": [
        "class MyEmptyClass:\n",
        "    pass"
      ]
    },
    {
      "cell_type": "markdown",
      "source": [
        "11.3. The initlog() function is an example of a function that has not yet been implemented. It takes a variable number of arguments (*args) but currently does nothing. The pass statement is used as a placeholder to remind the programmer to implement the function later."
      ],
      "metadata": {
        "id": "XYARLEM4IvFQ"
      }
    },
    {
      "cell_type": "code",
      "source": [
        "def initlog(*args):\n",
        "    pass   # Remember to implement this!"
      ],
      "metadata": {
        "id": "WGup9ov0IurH"
      },
      "execution_count": null,
      "outputs": []
    },
    {
      "cell_type": "markdown",
      "metadata": {
        "id": "Byt6hPogM4p7"
      },
      "source": [
        "## 12. Functions"
      ]
    },
    {
      "cell_type": "markdown",
      "source": [
        "This is the basic syntax for a function in Python. It allows you to give a set of instructions a name, so you can trigger it multiple times without having to re-write or copy-paste it. The contents of the function must be indented to signal that it's inside."
      ],
      "metadata": {
        "id": "SHtAiVg5OOqm"
      }
    },
    {
      "cell_type": "code",
      "source": [
        "def my_function():\n",
        "  print(\"Hello\")\n",
        "  name = input(\"Your name:\")\n",
        "  print(\"Nice to meet you\" + \" \" +name + \".\")\n",
        "my_function()"
      ],
      "metadata": {
        "id": "0c3wGY9gOPL2",
        "colab": {
          "base_uri": "https://localhost:8080/"
        },
        "outputId": "b33f8e47-348a-49b4-9fd1-4f360ce5efe5"
      },
      "execution_count": null,
      "outputs": [
        {
          "output_type": "stream",
          "name": "stdout",
          "text": [
            "Hello\n",
            "Your name:g\n",
            "Nice to meet you g.\n"
          ]
        }
      ]
    },
    {
      "cell_type": "code",
      "source": [],
      "metadata": {
        "id": "PJ0ooJgM6rEv"
      },
      "execution_count": null,
      "outputs": []
    },
    {
      "cell_type": "markdown",
      "source": [
        "You activate the function by calling it. This is simply done by writing the name of the function followed by a set of round brackets. This allows you to determine when to trigger the function and how many times."
      ],
      "metadata": {
        "id": "0RXYNWqWOUEG"
      }
    },
    {
      "cell_type": "code",
      "source": [
        "my_function()\n",
        "my_function()\n",
        "#The function my_function will run twice."
      ],
      "metadata": {
        "id": "lMr9JFe7ON72",
        "colab": {
          "base_uri": "https://localhost:8080/",
          "height": 387
        },
        "outputId": "588d8510-86ec-4ce7-f5fc-d601988e968b"
      },
      "execution_count": null,
      "outputs": [
        {
          "output_type": "stream",
          "name": "stdout",
          "text": [
            "Hello\n"
          ]
        },
        {
          "output_type": "error",
          "ename": "KeyboardInterrupt",
          "evalue": "ignored",
          "traceback": [
            "\u001b[0;31m---------------------------------------------------------------------------\u001b[0m",
            "\u001b[0;31mKeyboardInterrupt\u001b[0m                         Traceback (most recent call last)",
            "\u001b[0;32m<ipython-input-44-a705e5c28887>\u001b[0m in \u001b[0;36m<module>\u001b[0;34m\u001b[0m\n\u001b[0;32m----> 1\u001b[0;31m \u001b[0mmy_function\u001b[0m\u001b[0;34m(\u001b[0m\u001b[0;34m)\u001b[0m\u001b[0;34m\u001b[0m\u001b[0;34m\u001b[0m\u001b[0m\n\u001b[0m\u001b[1;32m      2\u001b[0m \u001b[0mmy_function\u001b[0m\u001b[0;34m(\u001b[0m\u001b[0;34m)\u001b[0m\u001b[0;34m\u001b[0m\u001b[0;34m\u001b[0m\u001b[0m\n\u001b[1;32m      3\u001b[0m \u001b[0;31m#The function my_function will run twice.\u001b[0m\u001b[0;34m\u001b[0m\u001b[0;34m\u001b[0m\u001b[0m\n",
            "\u001b[0;32m<ipython-input-43-56b0b8e4a1a6>\u001b[0m in \u001b[0;36mmy_function\u001b[0;34m()\u001b[0m\n\u001b[1;32m      1\u001b[0m \u001b[0;32mdef\u001b[0m \u001b[0mmy_function\u001b[0m\u001b[0;34m(\u001b[0m\u001b[0;34m)\u001b[0m\u001b[0;34m:\u001b[0m\u001b[0;34m\u001b[0m\u001b[0;34m\u001b[0m\u001b[0m\n\u001b[1;32m      2\u001b[0m   \u001b[0mprint\u001b[0m\u001b[0;34m(\u001b[0m\u001b[0;34m\"Hello\"\u001b[0m\u001b[0;34m)\u001b[0m\u001b[0;34m\u001b[0m\u001b[0;34m\u001b[0m\u001b[0m\n\u001b[0;32m----> 3\u001b[0;31m   \u001b[0mname\u001b[0m \u001b[0;34m=\u001b[0m \u001b[0minput\u001b[0m\u001b[0;34m(\u001b[0m\u001b[0;34m\"Your name:\"\u001b[0m\u001b[0;34m)\u001b[0m\u001b[0;34m\u001b[0m\u001b[0;34m\u001b[0m\u001b[0m\n\u001b[0m\u001b[1;32m      4\u001b[0m   \u001b[0mprint\u001b[0m\u001b[0;34m(\u001b[0m\u001b[0;34m\"Nice to meet you\"\u001b[0m \u001b[0;34m+\u001b[0m \u001b[0;34m\" \"\u001b[0m \u001b[0;34m+\u001b[0m\u001b[0mname\u001b[0m \u001b[0;34m+\u001b[0m \u001b[0;34m\".\"\u001b[0m\u001b[0;34m)\u001b[0m\u001b[0;34m\u001b[0m\u001b[0;34m\u001b[0m\u001b[0m\n",
            "\u001b[0;32m/usr/local/lib/python3.9/dist-packages/ipykernel/kernelbase.py\u001b[0m in \u001b[0;36mraw_input\u001b[0;34m(self, prompt)\u001b[0m\n\u001b[1;32m    858\u001b[0m                 \u001b[0;34m\"raw_input was called, but this frontend does not support input requests.\"\u001b[0m\u001b[0;34m\u001b[0m\u001b[0;34m\u001b[0m\u001b[0m\n\u001b[1;32m    859\u001b[0m             )\n\u001b[0;32m--> 860\u001b[0;31m         return self._input_request(str(prompt),\n\u001b[0m\u001b[1;32m    861\u001b[0m             \u001b[0mself\u001b[0m\u001b[0;34m.\u001b[0m\u001b[0m_parent_ident\u001b[0m\u001b[0;34m,\u001b[0m\u001b[0;34m\u001b[0m\u001b[0;34m\u001b[0m\u001b[0m\n\u001b[1;32m    862\u001b[0m             \u001b[0mself\u001b[0m\u001b[0;34m.\u001b[0m\u001b[0m_parent_header\u001b[0m\u001b[0;34m,\u001b[0m\u001b[0;34m\u001b[0m\u001b[0;34m\u001b[0m\u001b[0m\n",
            "\u001b[0;32m/usr/local/lib/python3.9/dist-packages/ipykernel/kernelbase.py\u001b[0m in \u001b[0;36m_input_request\u001b[0;34m(self, prompt, ident, parent, password)\u001b[0m\n\u001b[1;32m    902\u001b[0m             \u001b[0;32mexcept\u001b[0m \u001b[0mKeyboardInterrupt\u001b[0m\u001b[0;34m:\u001b[0m\u001b[0;34m\u001b[0m\u001b[0;34m\u001b[0m\u001b[0m\n\u001b[1;32m    903\u001b[0m                 \u001b[0;31m# re-raise KeyboardInterrupt, to truncate traceback\u001b[0m\u001b[0;34m\u001b[0m\u001b[0;34m\u001b[0m\u001b[0m\n\u001b[0;32m--> 904\u001b[0;31m                 \u001b[0;32mraise\u001b[0m \u001b[0mKeyboardInterrupt\u001b[0m\u001b[0;34m(\u001b[0m\u001b[0;34m\"Interrupted by user\"\u001b[0m\u001b[0;34m)\u001b[0m \u001b[0;32mfrom\u001b[0m \u001b[0;32mNone\u001b[0m\u001b[0;34m\u001b[0m\u001b[0;34m\u001b[0m\u001b[0m\n\u001b[0m\u001b[1;32m    905\u001b[0m             \u001b[0;32mexcept\u001b[0m \u001b[0mException\u001b[0m \u001b[0;32mas\u001b[0m \u001b[0me\u001b[0m\u001b[0;34m:\u001b[0m\u001b[0;34m\u001b[0m\u001b[0;34m\u001b[0m\u001b[0m\n\u001b[1;32m    906\u001b[0m                 \u001b[0mself\u001b[0m\u001b[0;34m.\u001b[0m\u001b[0mlog\u001b[0m\u001b[0;34m.\u001b[0m\u001b[0mwarning\u001b[0m\u001b[0;34m(\u001b[0m\u001b[0;34m\"Invalid Message:\"\u001b[0m\u001b[0;34m,\u001b[0m \u001b[0mexc_info\u001b[0m\u001b[0;34m=\u001b[0m\u001b[0;32mTrue\u001b[0m\u001b[0;34m)\u001b[0m\u001b[0;34m\u001b[0m\u001b[0;34m\u001b[0m\u001b[0m\n",
            "\u001b[0;31mKeyboardInterrupt\u001b[0m: Interrupted by user"
          ]
        }
      ]
    },
    {
      "cell_type": "markdown",
      "metadata": {
        "id": "fSC8eZRoM4p7"
      },
      "source": [
        "When a function runs, it creates a new symbol table that holds the local variables of the function. This means that any variable assigned inside the function is stored in this table. To access a variable from outside the function, the function first looks in its own symbol table, then in the symbol tables of any outer functions that contain it, then in the global symbol table, and finally in the table of built-in names. Therefore, a function cannot directly change the value of a global variable or a variable from an outer function (unless it uses a global or nonlocal statement), but it can read their values."
      ]
    },
    {
      "cell_type": "markdown",
      "source": [
        "Example: simple function helping to produce numbers from fibonacci series\n"
      ],
      "metadata": {
        "id": "8xCnDNRMREsG"
      }
    },
    {
      "cell_type": "code",
      "source": [
        "def fib(n):    # write Fibonacci series up to n\n",
        "    \"\"\"Print a Fibonacci series up to n.\"\"\"\n",
        "    a, b = 0, 1\n",
        "    while a < n:\n",
        "        print(a, end=' ')\n",
        "        a, b = b, a+b\n",
        "    print()\n",
        "\n",
        "# # Now call the function we just defined:\n",
        "print(f\"The 2000th number in the fibonacci series coresponds to {fib(2000)}\")\n"
      ],
      "metadata": {
        "id": "CrsGVtfXRQam",
        "colab": {
          "base_uri": "https://localhost:8080/"
        },
        "outputId": "1a562916-e5a7-4491-ee8e-02d8cb88bad3"
      },
      "execution_count": null,
      "outputs": [
        {
          "output_type": "stream",
          "name": "stdout",
          "text": [
            "0 1 1 2 3 5 8 13 21 34 55 89 144 233 377 610 987 1597 \n",
            "The 2000th number in the fibonacci series coresponds to None\n"
          ]
        }
      ]
    },
    {
      "cell_type": "code",
      "source": [
        "# # aliasing for the function name\n",
        "# fib\n",
        "# f = fib\n",
        "# f(100)"
      ],
      "metadata": {
        "id": "WwB4ls0WRimM"
      },
      "execution_count": null,
      "outputs": []
    },
    {
      "cell_type": "code",
      "source": [
        "# # fibonacci series using the list to store the data\n",
        "# def fib2(n):  # return Fibonacci series up to n\n",
        "#     \"\"\"Return a list containing the Fibonacci series up to n.\"\"\"\n",
        "#     result = []\n",
        "#     a, b = 0, 1\n",
        "#     while a < n:\n",
        "#         result.append(a)    # see below\n",
        "#         a, b = b, a+b\n",
        "#     return result\n",
        "\n",
        "# f100 = fib2(100)    # call it\n",
        "# print(f100)                # write the result\n"
      ],
      "metadata": {
        "id": "z25kV3tRRWgl"
      },
      "execution_count": null,
      "outputs": []
    },
    {
      "cell_type": "markdown",
      "source": [
        "Another example on def:"
      ],
      "metadata": {
        "id": "JA6lP-wptSH5"
      }
    },
    {
      "cell_type": "code",
      "source": [
        "# # Default arugument values\n",
        "def ask_for_permission(prompt, retries=4, reminder='Please try again!'):\n",
        "    while True:\n",
        "        answer = input(prompt)\n",
        "        if answer in ('y', 'ye', 'yes'):\n",
        "            return True\n",
        "        if answer in ('n', 'no', 'nop', 'nope'):\n",
        "            return False\n",
        "        retries = retries - 1\n",
        "        if retries < 0:\n",
        "            raise ValueError('invalid user response')\n",
        "        print(reminder) # loop is broken by the wrong responses and in that case this line won't be executed\n",
        "\n",
        "print(ask_for_permission(\"Would you like me to take care of the issue at hand?\"))"
      ],
      "metadata": {
        "id": "R_Vv-LtbRr1E"
      },
      "execution_count": null,
      "outputs": []
    },
    {
      "cell_type": "markdown",
      "metadata": {
        "id": "lPpaFIs0M4p7"
      },
      "source": [
        "# unpacking arguments list"
      ]
    },
    {
      "cell_type": "code",
      "execution_count": null,
      "metadata": {
        "id": "TQd5vvmUM4p7",
        "colab": {
          "base_uri": "https://localhost:8080/"
        },
        "outputId": "25e36f6b-4e1b-4113-8559-30f5bec908e4"
      },
      "outputs": [
        {
          "output_type": "execute_result",
          "data": {
            "text/plain": [
              "[3, 4, 5]"
            ]
          },
          "metadata": {},
          "execution_count": 49
        }
      ],
      "source": [
        "list(range(3, 6))            # normal call with separate arguments\n",
        "\n",
        "args = [3, 6]\n",
        "list(range(*args))            # call with arguments unpacked from a list"
      ]
    },
    {
      "cell_type": "markdown",
      "source": [
        "Another example:"
      ],
      "metadata": {
        "id": "bqGm-UDJumcd"
      }
    },
    {
      "cell_type": "code",
      "source": [
        "def parrot(voltage, state='a stiff', action='voom'):\n",
        "    print(\"-- This parrot wouldn't\", action, end=' ')\n",
        "    print(\"if you put\", voltage, \"volts through it.\", end=' ')\n",
        "    print(\"E's\", state, \"!\")\n",
        "\n",
        "d = {\"voltage\": \"four million\", \"state\": \"bleedin' demised\", \"action\": \"VOOM\"}\n",
        "parrot(**d)"
      ],
      "metadata": {
        "id": "2vAkuVkkuN0Q",
        "colab": {
          "base_uri": "https://localhost:8080/"
        },
        "outputId": "6aea5c55-520e-4e40-9593-c9237be50dc5"
      },
      "execution_count": null,
      "outputs": [
        {
          "output_type": "stream",
          "name": "stdout",
          "text": [
            "-- This parrot wouldn't VOOM if you put four million volts through it. E's bleedin' demised !\n"
          ]
        }
      ]
    },
    {
      "cell_type": "markdown",
      "metadata": {
        "id": "D758lYToM4p7"
      },
      "source": [
        "# Lambda expressions"
      ]
    },
    {
      "cell_type": "markdown",
      "source": [
        "Lambda expressions, also known as anonymous functions, are a way to create small, one-line functions in Python. They are defined using the lambda keyword, followed by the function's arguments (if any), separated by commas, and then a colon : followed by the function's body.\n",
        "\n",
        "For example, here is a lambda function that takes two arguments and returns their sum:"
      ],
      "metadata": {
        "id": "-xAln0_MvI0A"
      }
    },
    {
      "cell_type": "code",
      "source": [
        "sum_lambda = lambda a, b: a + b\n",
        "result = sum_lambda(3, 5)\n",
        "print(result)\n",
        "print(a)"
      ],
      "metadata": {
        "id": "pxU4J3xAvHsC",
        "colab": {
          "base_uri": "https://localhost:8080/",
          "height": 218
        },
        "outputId": "05909437-1b28-4e59-bfcf-447a2dab7da6"
      },
      "execution_count": null,
      "outputs": [
        {
          "output_type": "stream",
          "name": "stdout",
          "text": [
            "8\n"
          ]
        },
        {
          "output_type": "error",
          "ename": "NameError",
          "evalue": "ignored",
          "traceback": [
            "\u001b[0;31m---------------------------------------------------------------------------\u001b[0m",
            "\u001b[0;31mNameError\u001b[0m                                 Traceback (most recent call last)",
            "\u001b[0;32m<ipython-input-108-1c6c255060b7>\u001b[0m in \u001b[0;36m<module>\u001b[0;34m\u001b[0m\n\u001b[1;32m      2\u001b[0m \u001b[0mresult\u001b[0m \u001b[0;34m=\u001b[0m \u001b[0msum_lambda\u001b[0m\u001b[0;34m(\u001b[0m\u001b[0;36m3\u001b[0m\u001b[0;34m,\u001b[0m \u001b[0;36m5\u001b[0m\u001b[0;34m)\u001b[0m\u001b[0;34m\u001b[0m\u001b[0;34m\u001b[0m\u001b[0m\n\u001b[1;32m      3\u001b[0m \u001b[0mprint\u001b[0m\u001b[0;34m(\u001b[0m\u001b[0mresult\u001b[0m\u001b[0;34m)\u001b[0m\u001b[0;34m\u001b[0m\u001b[0;34m\u001b[0m\u001b[0m\n\u001b[0;32m----> 4\u001b[0;31m \u001b[0mprint\u001b[0m\u001b[0;34m(\u001b[0m\u001b[0mu\u001b[0m\u001b[0;34m)\u001b[0m\u001b[0;34m\u001b[0m\u001b[0;34m\u001b[0m\u001b[0m\n\u001b[0m",
            "\u001b[0;31mNameError\u001b[0m: name 'u' is not defined"
          ]
        }
      ]
    },
    {
      "cell_type": "markdown",
      "source": [
        "Another example:"
      ],
      "metadata": {
        "id": "iZoTx4vsvThD"
      }
    },
    {
      "cell_type": "code",
      "execution_count": null,
      "metadata": {
        "id": "TzAkOKRtM4p8",
        "colab": {
          "base_uri": "https://localhost:8080/"
        },
        "outputId": "8638a503-c595-45ba-ed39-7f680f892ff8"
      },
      "outputs": [
        {
          "output_type": "stream",
          "name": "stdout",
          "text": [
            "42 43\n"
          ]
        }
      ],
      "source": [
        "def make_incrementor(n):\n",
        "    return lambda x: x + n\n",
        "\n",
        "f = make_incrementor(42)\n",
        "\n",
        "print(f(0), f(1))"
      ]
    },
    {
      "cell_type": "markdown",
      "source": [
        "Another example:\n",
        "\n",
        "The code below uses the **map()** function and a **lambda expression** to create a new list of values by applying a function (squaring each number) to each element of an existing sequence.\n",
        "\n",
        "The original sequence is [1, 2, 3, 4, 5], and the lambda expression lambda x: x ** 2 defines a function that takes a single argument x and returns its square (i.e., x ** 2).\n",
        "\n",
        "The map() function then applies this lambda function to each element of the original sequence, returning a new sequence with the squared values. The result is then converted to a list using the **list() function**."
      ],
      "metadata": {
        "id": "r5v4uta0vWO0"
      }
    },
    {
      "cell_type": "code",
      "source": [
        "sequence=[1, 2, 3, 4, 5]\n",
        "list(map(lambda x: x ** 2, sequence))"
      ],
      "metadata": {
        "colab": {
          "base_uri": "https://localhost:8080/"
        },
        "id": "tQm1JzJOu3TB",
        "outputId": "bb8437a0-c2f3-43fa-a477-ae4b7d09f774"
      },
      "execution_count": null,
      "outputs": [
        {
          "output_type": "execute_result",
          "data": {
            "text/plain": [
              "[1, 4, 9, 16, 25]"
            ]
          },
          "metadata": {},
          "execution_count": 53
        }
      ]
    },
    {
      "cell_type": "markdown",
      "metadata": {
        "id": "rWtvsReGM4p8"
      },
      "source": [
        "### Excercise:\n",
        "\n",
        "Write a funtion that takes in a single argument, and returns a lambda function which takes an argument and computes the multiplication of the argument taken with the one passed to the function\n",
        "and returns the result."
      ]
    },
    {
      "cell_type": "code",
      "execution_count": null,
      "metadata": {
        "id": "UHcYmmN5M4p8"
      },
      "outputs": [],
      "source": [
        "#write the code here:"
      ]
    },
    {
      "cell_type": "markdown",
      "metadata": {
        "id": "4vjNwh1PM4p8"
      },
      "source": [
        "# Documentation string\n",
        "A documentation string, or docstring for short, is a string literal that appears as the first line of a function, module, class, or method definition in Python. The purpose of a docstring is to provide a concise and informative description of what the function, module, class, or method does, how to use it, and what arguments it takes.\n",
        "\n",
        "In Python, a docstring is enclosed in triple quotes (\"\"\"), and can span multiple lines. Here's an example of a function with a docstring:"
      ]
    },
    {
      "cell_type": "code",
      "execution_count": null,
      "metadata": {
        "id": "a7oNJUo6M4p8",
        "colab": {
          "base_uri": "https://localhost:8080/"
        },
        "outputId": "8e69672b-9910-44fc-e874-95dce3f67471"
      },
      "outputs": [
        {
          "output_type": "stream",
          "name": "stdout",
          "text": [
            "Do nothing, but document it.\n",
            "\n",
            "    No, really, it doesn't do anything.\n",
            "    \n"
          ]
        }
      ],
      "source": [
        "def my_function():\n",
        "    \"\"\"Do nothing, but document it.\n",
        "\n",
        "    No, really, it doesn't do anything.\n",
        "    \"\"\"\n",
        "    pass\n",
        "\n",
        "print(my_function.__doc__)"
      ]
    },
    {
      "cell_type": "markdown",
      "metadata": {
        "id": "jo5Q4s3FM4p8"
      },
      "source": [
        "# Type annotations\n",
        "\n",
        "Type annotations in Python are a way of indicating the expected type of a variable, function argument, or function return value using a special syntax.\n",
        "\n",
        "Type annotations are optional in Python, and they are not enforced at runtime. They are mainly used as a form of documentation, to help other programmers understand the intended types of variables and functions, and to improve code analysis by automated tools."
      ]
    },
    {
      "cell_type": "code",
      "execution_count": null,
      "metadata": {
        "id": "GogcDEwQM4p8",
        "colab": {
          "base_uri": "https://localhost:8080/",
          "height": 70
        },
        "outputId": "03ec9599-efd3-41d9-adae-d531033948f0"
      },
      "outputs": [
        {
          "output_type": "stream",
          "name": "stdout",
          "text": [
            "Annotations: {'ham': <class 'str'>, 'eggs': <class 'str'>, 'return': <class 'str'>}\n",
            "Arguments: spam eggs\n"
          ]
        },
        {
          "output_type": "execute_result",
          "data": {
            "text/plain": [
              "'spam and eggs'"
            ],
            "application/vnd.google.colaboratory.intrinsic+json": {
              "type": "string"
            }
          },
          "metadata": {},
          "execution_count": 55
        }
      ],
      "source": [
        "def f(ham: str, eggs: str = 'eggs') -> str:\n",
        "    print(\"Annotations:\", f.__annotations__)\n",
        "    print(\"Arguments:\", ham, eggs)\n",
        "    return ham + ' and ' + eggs\n",
        "\n",
        "f('spam')"
      ]
    },
    {
      "cell_type": "markdown",
      "metadata": {
        "id": "UVCEMw9vM4p8"
      },
      "source": [
        "### Excercise:\n",
        "\n",
        "Write a function named get_payment which accepts three arguments defined as amount, current_balance, and id with the float, float and integer data types respectively. The new_balance defined within the function will add the current_balance with the amount value input.\n",
        "\n",
        "you will implement another function called validate_id which has a data type of int. This function won't have an implemention detail and will return True always.\n",
        "\n",
        "if the validate_id returns True the get_payment function will also return True.\n",
        "\n",
        "The default value for the amount should be 50."
      ]
    },
    {
      "cell_type": "code",
      "execution_count": null,
      "metadata": {
        "id": "Q-eKvzEcM4p9"
      },
      "outputs": [],
      "source": []
    },
    {
      "cell_type": "markdown",
      "metadata": {
        "id": "mOHN25AAM4p9"
      },
      "source": [
        "# Extra info:"
      ]
    },
    {
      "cell_type": "code",
      "execution_count": null,
      "metadata": {
        "id": "LYqwpO1KM4p7"
      },
      "outputs": [],
      "source": [
        "# # Extra info about varibles in the nonlocal scope\n",
        "# # The default values are evaluated at the point of function definition in the defining scope\n",
        "# i = 5\n",
        "\n",
        "# def f(arg=i):\n",
        "#     print(arg)\n",
        "\n",
        "# i = 6\n",
        "# f()\n",
        "\n",
        "\n",
        "#  The default value is evaluated only once. This makes a difference when the default is a mutable object such as a list, dictionary, or instances of most classes.\n",
        "# def f(a, L=[]):\n",
        "#     L.append(a)\n",
        "#     return L\n",
        "\n",
        "# print(f(1))\n",
        "# print(f(2))\n",
        "# print(f(3))\n",
        "\n",
        "\n",
        "# work around\n",
        "# def f(a, L=None):\n",
        "#     if L is None:\n",
        "#         L = []\n",
        "#     L.append(a)\n",
        "#     return L\n",
        "\n",
        "# print(f(1))\n",
        "# print(f(2))\n",
        "# print(f(3))\n",
        "\n",
        "\n",
        "\n",
        "################################################################################ Passing Arguments to the Functions ###############################################################################################################\n",
        "# keyword arguments\n",
        "def parrot(voltage, state='a stiff', action='voom', type='Norwegian Blue'):\n",
        "    print(\"-- This parrot wouldn't\", action, end=' ')\n",
        "    print(\"if you put\", voltage, \"volts through it.\")\n",
        "    print(\"-- Lovely plumage, the\", type)\n",
        "    print(\"-- It's\", state, \"!\")\n",
        "\n",
        "# parrot(50000000)\n",
        "\n",
        "# # valid argument passing\n",
        "# parrot(1000)                                          # 1 positional argument\n",
        "# parrot(voltage=1000)                                  # 1 keyword argument\n",
        "# parrot(voltage=1000000, action='VOOOOOM')             # 2 keyword arguments\n",
        "# parrot(action='VOOOOOM', voltage=1000000)             # 2 keyword arguments # despite voltage being placed as the first argument, we have not forced it to only be accepted as the first one\n",
        "# parrot('a million', 'bereft of life', 'jump')         # 3 positional arguments\n",
        "# parrot('a thousand', state='pushing up the daisies')  # 1 positional, 1 keyword\n",
        "\n",
        "# # invalid argument passing\n",
        "# parrot()                     # required argument missing\n",
        "# parrot(voltage=5.0, 'dead')  # non-keyword argument after a keyword argument\n",
        "# parrot(110, voltage=220)     # duplicate value for the same argument\n",
        "# parrot(actor='John Cleese')  # unknown keyword argument\n",
        "\n",
        "# # arbitrary number of positional arguments and mapping types provided as the arguments\n",
        "# def cheeseshop(kind, *arguments, **keywords):\n",
        "#     print(\"-- Do you have any\", kind, \"?\")\n",
        "#     print(\"-- I'm sorry, we're all out of\", kind)\n",
        "#     for arg in arguments:\n",
        "#         print(arg)\n",
        "#     print(\"-\" * 40)\n",
        "#     for kw in keywords:\n",
        "#         print(kw, \":\", keywords[kw])\n",
        "\n",
        "# cheeseshop(\"Limburger\", \"It's very runny, sir.\",\n",
        "#            \"It's really very, VERY runny, sir.\",\n",
        "#            shopkeeper=\"Michael Palin\",\n",
        "#            client=\"John Cleese\",\n",
        "#            sketch=\"Cheese Shop Sketch\")\n",
        "\n",
        "\n",
        "# Defining postional and/or keyword only scenarios\n",
        "# # def f(pos1, pos2, /, pos_or_kwd, *, kwd1, kwd2):\n",
        "#     #   -----------    ----------     ----------\n",
        "#         # |             |                  |\n",
        "#         # |        Positional or keyword   |\n",
        "#         # |                                - Keyword only\n",
        "#         #  -- Positional only\n",
        "\n",
        "# def standard_arg(arg):\n",
        "#     print(arg)\n",
        "\n",
        "# def pos_only_arg(arg, /):\n",
        "#     print(arg)\n",
        "\n",
        "# def kwd_only_arg(*, arg):\n",
        "#     print(arg)\n",
        "\n",
        "# def combined_example(pos_only, /, standard, *, kwd_only):\n",
        "#     print(pos_only, standard, kwd_only)"
      ]
    },
    {
      "cell_type": "markdown",
      "metadata": {
        "id": "hsPO-gKIM4p9"
      },
      "source": [
        "# Intermezzo: Coding Style\n",
        "\n",
        "For Python, PEP 8 has emerged as the style guide that most projects adhere to; it promotes a very readable and eye-pleasing coding style. Every Python developer should read it at some point; here are the most important points extracted for you:\n",
        "\n",
        "    Use 4-space indentation, and no tabs.\n",
        "\n",
        "    4 spaces are a good compromise between small indentation (allows greater nesting depth) and large indentation (easier to read). Tabs introduce confusion, and are best left out.\n",
        "\n",
        "    Wrap lines so that they don’t exceed 79 characters.\n",
        "\n",
        "    This helps users with small displays and makes it possible to have several code files side-by-side on larger displays.\n",
        "\n",
        "    Use blank lines to separate functions and classes, and larger blocks of code inside functions.\n",
        "\n",
        "    When possible, put comments on a line of their own.\n",
        "\n",
        "    Use docstrings.\n",
        "\n",
        "    Use spaces around operators and after commas, but not directly inside bracketing constructs: a = f(1, 2) + g(3, 4).\n",
        "\n",
        "    Name your classes and functions consistently; the convention is to use UpperCamelCase for classes and lowercase_with_underscores for functions and methods. Always use self as the name for the first method argument (see A First Look at Classes for more on classes and methods).\n",
        "\n",
        "    Don’t use fancy encodings if your code is meant to be used in international environments. Python’s default, UTF-8, or even plain ASCII work best in any case.\n",
        "\n",
        "    Likewise, don’t use non-ASCII characters in identifiers if there is only the slightest chance people speaking a different language will read or maintain the code"
      ]
    },
    {
      "cell_type": "markdown",
      "metadata": {
        "id": "v6KZ4L4sM4p9"
      },
      "source": [
        "references:\n",
        "\n",
        "PEP 8 – Style Guide for Python Code (https://peps.python.org/pep-0008/)"
      ]
    },
    {
      "cell_type": "markdown",
      "metadata": {
        "id": "8u6RX4KtM4p9"
      },
      "source": [
        "### Iiterable and iterator definition python\n",
        "\n",
        "iterable:\n",
        "An object capable of returning its members one at a time. Examples of iterables include all sequence types (such as list, str, and tuple) and some non-sequence types like dict, file objects, and objects of any classes you define with an \\__iter__() method or with a \\__getitem__() method that implements sequence semantics\n",
        "\n",
        "An iterator is an object with a next (Python 2) or \\__next__ (Python 3) method.\n",
        "\n",
        "\n",
        "\n",
        "Extra info:\n",
        "\n",
        "sequence:\n",
        "An iterable which supports efficient element access using integer indices via the __getitem__() special method and defines a __len__() method that returns the length of the sequence. Some built-in sequence types are list, str, tuple, and bytes. Note that dict also supports __getitem__() and __len__(), but is considered a mapping rather than a sequence because the lookups use arbitrary immutable keys rather than integers.\n",
        "\n",
        "The collections.abc.Sequence abstract base class defines a much richer interface that goes beyond just __getitem__() and __len__(), adding count(), index(), __contains__(), and __reversed__(). Types that implement this expanded interface can be registered explicitly using register().\n"
      ]
    }
  ],
  "metadata": {
    "kernelspec": {
      "display_name": "Python 3",
      "language": "python",
      "name": "python3"
    },
    "language_info": {
      "codemirror_mode": {
        "name": "ipython",
        "version": 3
      },
      "file_extension": ".py",
      "mimetype": "text/x-python",
      "name": "python",
      "nbconvert_exporter": "python",
      "pygments_lexer": "ipython3",
      "version": "3.11.2"
    },
    "orig_nbformat": 4,
    "colab": {
      "provenance": []
    }
  },
  "nbformat": 4,
  "nbformat_minor": 0
}
